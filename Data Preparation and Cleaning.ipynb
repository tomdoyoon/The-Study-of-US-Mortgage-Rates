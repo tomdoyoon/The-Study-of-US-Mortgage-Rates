{
 "cells": [
  {
   "cell_type": "code",
   "execution_count": 47,
   "id": "a446a351",
   "metadata": {},
   "outputs": [],
   "source": [
    "import numpy as np\n",
    "import pandas as pd\n",
    "from datetime import datetime, timedelta\n",
    "# FRED API\n",
    "from fredapi import Fred\n",
    "fred = Fred(api_key='YOUR-KEY')"
   ]
  },
  {
   "cell_type": "code",
   "execution_count": 2,
   "id": "9750dd4b",
   "metadata": {},
   "outputs": [],
   "source": [
    "# GETTING DATA\n",
    "mortgage_30 = fred.get_series_first_release('MORTGAGE30US')\n",
    "mortgage_15 = fred.get_series_first_release('MORTGAGE15US')\n",
    "treasury_10 = fred.get_series_first_release('WGS10YR')\n",
    "treasury_2 = fred.get_series_first_release('WGS2YR')\n",
    "fed = fred.get_series_first_release('FF')\n",
    "aaa = fred.get_series_first_release('WAAA')\n",
    "baa = fred.get_series_first_release('WBAA')"
   ]
  },
  {
   "cell_type": "code",
   "execution_count": 6,
   "id": "fbf084e8",
   "metadata": {},
   "outputs": [],
   "source": [
    "# To Pickle for now\n",
    "import pickle\n",
    "\n",
    "series_dict = {\n",
    "    'mortgage_30': mortgage_30,\n",
    "    'mortgage_15': mortgage_15,\n",
    "    'treasury_10': treasury_10,\n",
    "    'treasury_2': treasury_2,\n",
    "    'fed': fed,\n",
    "    'aaa': aaa,\n",
    "    'baa': baa\n",
    "}\n",
    "\n",
    "for key, value in series_dict.items():\n",
    "    with open(f'{key}.pkl', 'wb') as file:\n",
    "        pickle.dump(value, file)"
   ]
  },
  {
   "cell_type": "code",
   "execution_count": 2,
   "id": "059f479a",
   "metadata": {},
   "outputs": [],
   "source": [
    "# read Pickle\n",
    "mortgage_30 = pd.read_pickle('mortgage_30.pkl')\n",
    "#mortgage_15 = pd.read_pickle('mortgage_15.pkl')\n",
    "treasury_10 = pd.read_pickle('treasury_10.pkl')\n",
    "treasury_2 = pd.read_pickle('treasury_2.pkl')\n",
    "fed = pd.read_pickle('fed.pkl')\n",
    "aaa = pd.read_pickle('aaa.pkl')\n",
    "baa = pd.read_pickle('baa.pkl')"
   ]
  },
  {
   "cell_type": "markdown",
   "id": "285aa048",
   "metadata": {},
   "source": [
    "# Standardizing and Merging Datasets"
   ]
  },
  {
   "cell_type": "code",
   "execution_count": 8,
   "id": "50c44479",
   "metadata": {},
   "outputs": [],
   "source": [
    "# Setting all dates to the Friday of the week\n",
    "def get_friday(date):\n",
    "    days_until_friday = 4 - date.dayofweek\n",
    "    friday = date + pd.Timedelta(days=days_until_friday)\n",
    "    return friday"
   ]
  },
  {
   "cell_type": "code",
   "execution_count": 14,
   "id": "d68d2a33",
   "metadata": {},
   "outputs": [],
   "source": [
    "mortgage_30.index = mortgage_30.index.map(get_friday)\n",
    "treasury_10.index = treasury_10.index.map(get_friday)\n",
    "treasury_2.index = treasury_2.index.map(get_friday)\n",
    "fed.index = fed.index.map(get_friday)\n",
    "aaa.index = aaa.index.map(get_friday)\n",
    "baa.index = baa.index.map(get_friday)"
   ]
  },
  {
   "cell_type": "code",
   "execution_count": 66,
   "id": "f8a4ed25",
   "metadata": {},
   "outputs": [
    {
     "name": "stdout",
     "output_type": "stream",
     "text": [
      "Missing Weeks: \n"
     ]
    },
    {
     "data": {
      "text/plain": [
       "Series([], Name: value, dtype: object)"
      ]
     },
     "execution_count": 66,
     "metadata": {},
     "output_type": "execute_result"
    }
   ],
   "source": [
    "# Does Mortgage 30Yr contain all the weeks?\n",
    "\n",
    "start_date = min(mortgage_30.index)\n",
    "end_date = max(mortgage_30.index)\n",
    "\n",
    "dates_check = []\n",
    "for date in range(0,int((end_date-start_date).days/7)+1):\n",
    "    dates_check.append(start_date + date*timedelta(days=7))\n",
    "\n",
    "    \n",
    "print('Missing Weeks: ')    \n",
    "mortgage_30[~mortgage_30.index.isin(dates_check)]"
   ]
  },
  {
   "cell_type": "code",
   "execution_count": 74,
   "id": "00116869",
   "metadata": {},
   "outputs": [],
   "source": [
    "# Keeping only Data where all features are populated\n",
    "mortgage = mortgage_30[(mortgage_30.index>=max(mortgage_30.index.min(),treasury_10.index.min(),\n",
    "                                    treasury_2.index.min(),fed.index.min(),aaa.index.min(),baa.index.min()))]"
   ]
  },
  {
   "cell_type": "code",
   "execution_count": 88,
   "id": "e4d387a6",
   "metadata": {},
   "outputs": [
    {
     "data": {
      "text/html": [
       "<div>\n",
       "<style scoped>\n",
       "    .dataframe tbody tr th:only-of-type {\n",
       "        vertical-align: middle;\n",
       "    }\n",
       "\n",
       "    .dataframe tbody tr th {\n",
       "        vertical-align: top;\n",
       "    }\n",
       "\n",
       "    .dataframe thead th {\n",
       "        text-align: right;\n",
       "    }\n",
       "</style>\n",
       "<table border=\"1\" class=\"dataframe\">\n",
       "  <thead>\n",
       "    <tr style=\"text-align: right;\">\n",
       "      <th></th>\n",
       "      <th>M30Y</th>\n",
       "      <th>T10Y</th>\n",
       "      <th>T2Y</th>\n",
       "      <th>FED</th>\n",
       "      <th>AAA</th>\n",
       "      <th>BAA</th>\n",
       "    </tr>\n",
       "    <tr>\n",
       "      <th>date</th>\n",
       "      <th></th>\n",
       "      <th></th>\n",
       "      <th></th>\n",
       "      <th></th>\n",
       "      <th></th>\n",
       "      <th></th>\n",
       "    </tr>\n",
       "  </thead>\n",
       "  <tbody>\n",
       "    <tr>\n",
       "      <th>1976-06-04</th>\n",
       "      <td>8.78</td>\n",
       "      <td>7.92</td>\n",
       "      <td>7.21</td>\n",
       "      <td>5.54</td>\n",
       "      <td>8.63</td>\n",
       "      <td>9.9</td>\n",
       "    </tr>\n",
       "    <tr>\n",
       "      <th>1976-06-11</th>\n",
       "      <td>8.83</td>\n",
       "      <td>7.88</td>\n",
       "      <td>7.06</td>\n",
       "      <td>5.44</td>\n",
       "      <td>8.63</td>\n",
       "      <td>9.91</td>\n",
       "    </tr>\n",
       "    <tr>\n",
       "      <th>1976-06-18</th>\n",
       "      <td>8.88</td>\n",
       "      <td>7.84</td>\n",
       "      <td>7.03</td>\n",
       "      <td>5.47</td>\n",
       "      <td>8.62</td>\n",
       "      <td>9.87</td>\n",
       "    </tr>\n",
       "    <tr>\n",
       "      <th>1976-06-25</th>\n",
       "      <td>8.9</td>\n",
       "      <td>7.81</td>\n",
       "      <td>7.0</td>\n",
       "      <td>5.48</td>\n",
       "      <td>8.6</td>\n",
       "      <td>9.87</td>\n",
       "    </tr>\n",
       "    <tr>\n",
       "      <th>1976-07-02</th>\n",
       "      <td>8.93</td>\n",
       "      <td>7.86</td>\n",
       "      <td>7.01</td>\n",
       "      <td>5.58</td>\n",
       "      <td>8.63</td>\n",
       "      <td>9.89</td>\n",
       "    </tr>\n",
       "  </tbody>\n",
       "</table>\n",
       "</div>"
      ],
      "text/plain": [
       "            M30Y  T10Y   T2Y   FED   AAA   BAA\n",
       "date                                          \n",
       "1976-06-04  8.78  7.92  7.21  5.54  8.63   9.9\n",
       "1976-06-11  8.83  7.88  7.06  5.44  8.63  9.91\n",
       "1976-06-18  8.88  7.84  7.03  5.47  8.62  9.87\n",
       "1976-06-25   8.9  7.81   7.0  5.48   8.6  9.87\n",
       "1976-07-02  8.93  7.86  7.01  5.58  8.63  9.89"
      ]
     },
     "execution_count": 88,
     "metadata": {},
     "output_type": "execute_result"
    }
   ],
   "source": [
    "# Merging all features\n",
    "df = pd.concat([mortgage,treasury_10,treasury_2,fed,aaa,baa], axis = 1)\n",
    "df.columns = ['M30Y','T10Y','T2Y','FED','AAA','BAA']\n",
    "df = df[~df['M30Y'].isnull()]\n",
    "df.dropna(inplace = True)\n",
    "df.head()"
   ]
  },
  {
   "cell_type": "markdown",
   "id": "dc1597be",
   "metadata": {},
   "source": [
    "# Feature Engineering\n",
    "Yield Spreads, Term Spreads"
   ]
  },
  {
   "cell_type": "code",
   "execution_count": 91,
   "id": "d09be8f1",
   "metadata": {},
   "outputs": [],
   "source": [
    "def spread(a,b):\n",
    "    return df.copy()[a]-df.copy()[b]"
   ]
  },
  {
   "cell_type": "code",
   "execution_count": 95,
   "id": "bf6ccd0a",
   "metadata": {},
   "outputs": [],
   "source": [
    "# 10Y - 2Y Spread\n",
    "df['T10-2'] = spread('T10Y','T2Y')\n",
    "# 10Y - FED Spread\n",
    "df['T10-F'] = spread('T10Y','FED')\n",
    "# AAA - BAA Spread\n",
    "df['A-B'] = spread('AAA','BAA')\n",
    "# 30Y - FED Spread\n",
    "df['T10-2'] = spread('M30Y','FED')\n",
    "# AAA - 10Y Spread\n",
    "df['A-T10'] = spread('AAA','T10Y')"
   ]
  },
  {
   "cell_type": "code",
   "execution_count": 97,
   "id": "cd8c0108",
   "metadata": {},
   "outputs": [
    {
     "data": {
      "text/html": [
       "<div>\n",
       "<style scoped>\n",
       "    .dataframe tbody tr th:only-of-type {\n",
       "        vertical-align: middle;\n",
       "    }\n",
       "\n",
       "    .dataframe tbody tr th {\n",
       "        vertical-align: top;\n",
       "    }\n",
       "\n",
       "    .dataframe thead th {\n",
       "        text-align: right;\n",
       "    }\n",
       "</style>\n",
       "<table border=\"1\" class=\"dataframe\">\n",
       "  <thead>\n",
       "    <tr style=\"text-align: right;\">\n",
       "      <th></th>\n",
       "      <th>M30Y</th>\n",
       "      <th>T10Y</th>\n",
       "      <th>T2Y</th>\n",
       "      <th>FED</th>\n",
       "      <th>AAA</th>\n",
       "      <th>BAA</th>\n",
       "      <th>T10-2</th>\n",
       "      <th>T10-F</th>\n",
       "      <th>A-B</th>\n",
       "      <th>A-T10</th>\n",
       "    </tr>\n",
       "    <tr>\n",
       "      <th>date</th>\n",
       "      <th></th>\n",
       "      <th></th>\n",
       "      <th></th>\n",
       "      <th></th>\n",
       "      <th></th>\n",
       "      <th></th>\n",
       "      <th></th>\n",
       "      <th></th>\n",
       "      <th></th>\n",
       "      <th></th>\n",
       "    </tr>\n",
       "  </thead>\n",
       "  <tbody>\n",
       "    <tr>\n",
       "      <th>1976-06-04</th>\n",
       "      <td>8.78</td>\n",
       "      <td>7.92</td>\n",
       "      <td>7.21</td>\n",
       "      <td>5.54</td>\n",
       "      <td>8.63</td>\n",
       "      <td>9.9</td>\n",
       "      <td>3.24</td>\n",
       "      <td>2.38</td>\n",
       "      <td>-1.27</td>\n",
       "      <td>0.71</td>\n",
       "    </tr>\n",
       "    <tr>\n",
       "      <th>1976-06-11</th>\n",
       "      <td>8.83</td>\n",
       "      <td>7.88</td>\n",
       "      <td>7.06</td>\n",
       "      <td>5.44</td>\n",
       "      <td>8.63</td>\n",
       "      <td>9.91</td>\n",
       "      <td>3.39</td>\n",
       "      <td>2.44</td>\n",
       "      <td>-1.28</td>\n",
       "      <td>0.75</td>\n",
       "    </tr>\n",
       "    <tr>\n",
       "      <th>1976-06-18</th>\n",
       "      <td>8.88</td>\n",
       "      <td>7.84</td>\n",
       "      <td>7.03</td>\n",
       "      <td>5.47</td>\n",
       "      <td>8.62</td>\n",
       "      <td>9.87</td>\n",
       "      <td>3.41</td>\n",
       "      <td>2.37</td>\n",
       "      <td>-1.25</td>\n",
       "      <td>0.78</td>\n",
       "    </tr>\n",
       "    <tr>\n",
       "      <th>1976-06-25</th>\n",
       "      <td>8.9</td>\n",
       "      <td>7.81</td>\n",
       "      <td>7.0</td>\n",
       "      <td>5.48</td>\n",
       "      <td>8.6</td>\n",
       "      <td>9.87</td>\n",
       "      <td>3.42</td>\n",
       "      <td>2.33</td>\n",
       "      <td>-1.27</td>\n",
       "      <td>0.79</td>\n",
       "    </tr>\n",
       "    <tr>\n",
       "      <th>1976-07-02</th>\n",
       "      <td>8.93</td>\n",
       "      <td>7.86</td>\n",
       "      <td>7.01</td>\n",
       "      <td>5.58</td>\n",
       "      <td>8.63</td>\n",
       "      <td>9.89</td>\n",
       "      <td>3.35</td>\n",
       "      <td>2.28</td>\n",
       "      <td>-1.26</td>\n",
       "      <td>0.77</td>\n",
       "    </tr>\n",
       "  </tbody>\n",
       "</table>\n",
       "</div>"
      ],
      "text/plain": [
       "            M30Y  T10Y   T2Y   FED   AAA   BAA T10-2 T10-F   A-B A-T10\n",
       "date                                                                  \n",
       "1976-06-04  8.78  7.92  7.21  5.54  8.63   9.9  3.24  2.38 -1.27  0.71\n",
       "1976-06-11  8.83  7.88  7.06  5.44  8.63  9.91  3.39  2.44 -1.28  0.75\n",
       "1976-06-18  8.88  7.84  7.03  5.47  8.62  9.87  3.41  2.37 -1.25  0.78\n",
       "1976-06-25   8.9  7.81   7.0  5.48   8.6  9.87  3.42  2.33 -1.27  0.79\n",
       "1976-07-02  8.93  7.86  7.01  5.58  8.63  9.89  3.35  2.28 -1.26  0.77"
      ]
     },
     "execution_count": 97,
     "metadata": {},
     "output_type": "execute_result"
    }
   ],
   "source": [
    "df.head()"
   ]
  },
  {
   "cell_type": "code",
   "execution_count": 98,
   "id": "8ed03a1e",
   "metadata": {},
   "outputs": [],
   "source": [
    "# to pickle\n",
    "df.to_pickle('df.pkl')"
   ]
  },
  {
   "cell_type": "code",
   "execution_count": null,
   "id": "6639661f",
   "metadata": {},
   "outputs": [],
   "source": []
  }
 ],
 "metadata": {
  "kernelspec": {
   "display_name": "Python 3 (ipykernel)",
   "language": "python",
   "name": "python3"
  },
  "language_info": {
   "codemirror_mode": {
    "name": "ipython",
    "version": 3
   },
   "file_extension": ".py",
   "mimetype": "text/x-python",
   "name": "python",
   "nbconvert_exporter": "python",
   "pygments_lexer": "ipython3",
   "version": "3.10.9"
  }
 },
 "nbformat": 4,
 "nbformat_minor": 5
}
