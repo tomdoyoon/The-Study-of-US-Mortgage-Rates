{
 "cells": [
  {
   "cell_type": "code",
   "execution_count": 1,
   "id": "d6526e88",
   "metadata": {},
   "outputs": [],
   "source": [
    "import numpy as np\n",
    "import pandas as pd\n",
    "from datetime import datetime, timedelta\n",
    "# FRED API\n",
    "from fredapi import Fred\n",
    "fred = Fred(api_key='YOUR-KEY')"
   ]
  },
  {
   "cell_type": "code",
   "execution_count": 2,
   "id": "b6aba618",
   "metadata": {},
   "outputs": [],
   "source": [
    "df = pd.read_pickle('df.pkl')"
   ]
  },
  {
   "cell_type": "code",
   "execution_count": 41,
   "id": "c11b47be",
   "metadata": {},
   "outputs": [],
   "source": [
    "last_date = df.index.max()-timedelta(14)"
   ]
  },
  {
   "cell_type": "code",
   "execution_count": 42,
   "id": "5f02dad1",
   "metadata": {},
   "outputs": [],
   "source": [
    "# GETTING NEW DATA\n",
    "mortgage_30 = fred.get_series_first_release('MORTGAGE30US')\n",
    "treasury_10 = fred.get_series_first_release('WGS10YR')\n",
    "treasury_2 = fred.get_series_first_release('WGS2YR')\n",
    "fed = fred.get_series_first_release('FF')\n",
    "aaa = fred.get_series_first_release('WAAA')\n",
    "baa = fred.get_series_first_release('WBAA')"
   ]
  },
  {
   "cell_type": "code",
   "execution_count": 43,
   "id": "2862ba04",
   "metadata": {},
   "outputs": [],
   "source": [
    "# Setting all dates to the Friday of the week\n",
    "def get_friday(date):\n",
    "    days_until_friday = 4 - date.dayofweek\n",
    "    friday = date + pd.Timedelta(days=days_until_friday)\n",
    "    return friday\n",
    "\n",
    "mortgage_30.index = mortgage_30.index.map(get_friday)\n",
    "treasury_10.index = treasury_10.index.map(get_friday)\n",
    "treasury_2.index = treasury_2.index.map(get_friday)\n",
    "fed.index = fed.index.map(get_friday)\n",
    "aaa.index = aaa.index.map(get_friday)\n",
    "baa.index = baa.index.map(get_friday)"
   ]
  },
  {
   "cell_type": "code",
   "execution_count": 44,
   "id": "75cd1338",
   "metadata": {},
   "outputs": [
    {
     "data": {
      "text/html": [
       "<div>\n",
       "<style scoped>\n",
       "    .dataframe tbody tr th:only-of-type {\n",
       "        vertical-align: middle;\n",
       "    }\n",
       "\n",
       "    .dataframe tbody tr th {\n",
       "        vertical-align: top;\n",
       "    }\n",
       "\n",
       "    .dataframe thead th {\n",
       "        text-align: right;\n",
       "    }\n",
       "</style>\n",
       "<table border=\"1\" class=\"dataframe\">\n",
       "  <thead>\n",
       "    <tr style=\"text-align: right;\">\n",
       "      <th></th>\n",
       "      <th>M30Y</th>\n",
       "      <th>T10Y</th>\n",
       "      <th>T2Y</th>\n",
       "      <th>FED</th>\n",
       "      <th>AAA</th>\n",
       "      <th>BAA</th>\n",
       "    </tr>\n",
       "    <tr>\n",
       "      <th>date</th>\n",
       "      <th></th>\n",
       "      <th></th>\n",
       "      <th></th>\n",
       "      <th></th>\n",
       "      <th></th>\n",
       "      <th></th>\n",
       "    </tr>\n",
       "  </thead>\n",
       "  <tbody>\n",
       "    <tr>\n",
       "      <th>2023-09-29</th>\n",
       "      <td>7.31</td>\n",
       "      <td>4.58</td>\n",
       "      <td>5.06</td>\n",
       "      <td>5.33</td>\n",
       "      <td>5.35</td>\n",
       "      <td>6.35</td>\n",
       "    </tr>\n",
       "    <tr>\n",
       "      <th>2023-10-06</th>\n",
       "      <td>7.49</td>\n",
       "      <td>4.75</td>\n",
       "      <td>5.09</td>\n",
       "      <td>5.33</td>\n",
       "      <td>5.55</td>\n",
       "      <td>6.57</td>\n",
       "    </tr>\n",
       "    <tr>\n",
       "      <th>2023-10-13</th>\n",
       "      <td>7.57</td>\n",
       "      <td>4.64</td>\n",
       "      <td>5.01</td>\n",
       "      <td>5.33</td>\n",
       "      <td>5.45</td>\n",
       "      <td>6.47</td>\n",
       "    </tr>\n",
       "    <tr>\n",
       "      <th>2023-10-20</th>\n",
       "      <td>7.63</td>\n",
       "      <td>4.87</td>\n",
       "      <td>5.14</td>\n",
       "      <td>5.33</td>\n",
       "      <td>5.67</td>\n",
       "      <td>6.69</td>\n",
       "    </tr>\n",
       "    <tr>\n",
       "      <th>2023-10-27</th>\n",
       "      <td>7.79</td>\n",
       "      <td>4.87</td>\n",
       "      <td>5.03</td>\n",
       "      <td>5.33</td>\n",
       "      <td>5.71</td>\n",
       "      <td>6.71</td>\n",
       "    </tr>\n",
       "  </tbody>\n",
       "</table>\n",
       "</div>"
      ],
      "text/plain": [
       "            M30Y  T10Y   T2Y   FED   AAA   BAA\n",
       "date                                          \n",
       "2023-09-29  7.31  4.58  5.06  5.33  5.35  6.35\n",
       "2023-10-06  7.49  4.75  5.09  5.33  5.55  6.57\n",
       "2023-10-13  7.57  4.64  5.01  5.33  5.45  6.47\n",
       "2023-10-20  7.63  4.87  5.14  5.33  5.67  6.69\n",
       "2023-10-27  7.79  4.87  5.03  5.33  5.71  6.71"
      ]
     },
     "execution_count": 44,
     "metadata": {},
     "output_type": "execute_result"
    }
   ],
   "source": [
    "# Getting only new data\n",
    "new_df = pd.concat([mortgage_30[mortgage_30.index>last_date],treasury_10[treasury_10.index>last_date],\n",
    "                                                     treasury_2[treasury_2.index>last_date],\n",
    "                                                      fed[fed.index>last_date],\n",
    "                                                       aaa[aaa.index>last_date],\n",
    "                                                        baa[baa.index>last_date]], axis = 1)\n",
    "new_df.columns = ['M30Y','T10Y','T2Y','FED','AAA','BAA']\n",
    "new_df = new_df[~new_df['M30Y'].isnull()]\n",
    "new_df.dropna(inplace = True)\n",
    "new_df.head()"
   ]
  },
  {
   "cell_type": "code",
   "execution_count": 45,
   "id": "28017125",
   "metadata": {},
   "outputs": [],
   "source": [
    "def spread(a,b):\n",
    "    return new_df.copy()[a]-new_df.copy()[b]\n",
    "\n",
    "# 10Y - 2Y Spread\n",
    "new_df['T10-2'] = spread('T10Y','T2Y')\n",
    "# 10Y - FED Spread\n",
    "new_df['T10-F'] = spread('T10Y','FED')\n",
    "# AAA - BAA Spread\n",
    "new_df['A-B'] = spread('AAA','BAA')\n",
    "# 30Y - FED Spread\n",
    "new_df['T10-2'] = spread('M30Y','FED')\n",
    "# AAA - 10Y Spread\n",
    "new_df['A-T10'] = spread('AAA','T10Y')"
   ]
  },
  {
   "cell_type": "code",
   "execution_count": 46,
   "id": "532940fa",
   "metadata": {},
   "outputs": [
    {
     "data": {
      "text/html": [
       "<div>\n",
       "<style scoped>\n",
       "    .dataframe tbody tr th:only-of-type {\n",
       "        vertical-align: middle;\n",
       "    }\n",
       "\n",
       "    .dataframe tbody tr th {\n",
       "        vertical-align: top;\n",
       "    }\n",
       "\n",
       "    .dataframe thead th {\n",
       "        text-align: right;\n",
       "    }\n",
       "</style>\n",
       "<table border=\"1\" class=\"dataframe\">\n",
       "  <thead>\n",
       "    <tr style=\"text-align: right;\">\n",
       "      <th></th>\n",
       "      <th>M30Y</th>\n",
       "      <th>T10Y</th>\n",
       "      <th>T2Y</th>\n",
       "      <th>FED</th>\n",
       "      <th>AAA</th>\n",
       "      <th>BAA</th>\n",
       "      <th>T10-2</th>\n",
       "      <th>T10-F</th>\n",
       "      <th>A-B</th>\n",
       "      <th>A-T10</th>\n",
       "    </tr>\n",
       "    <tr>\n",
       "      <th>date</th>\n",
       "      <th></th>\n",
       "      <th></th>\n",
       "      <th></th>\n",
       "      <th></th>\n",
       "      <th></th>\n",
       "      <th></th>\n",
       "      <th></th>\n",
       "      <th></th>\n",
       "      <th></th>\n",
       "      <th></th>\n",
       "    </tr>\n",
       "  </thead>\n",
       "  <tbody>\n",
       "    <tr>\n",
       "      <th>2023-09-29</th>\n",
       "      <td>7.31</td>\n",
       "      <td>4.58</td>\n",
       "      <td>5.06</td>\n",
       "      <td>5.33</td>\n",
       "      <td>5.35</td>\n",
       "      <td>6.35</td>\n",
       "      <td>1.98</td>\n",
       "      <td>-0.75</td>\n",
       "      <td>-1.0</td>\n",
       "      <td>0.77</td>\n",
       "    </tr>\n",
       "    <tr>\n",
       "      <th>2023-10-06</th>\n",
       "      <td>7.49</td>\n",
       "      <td>4.75</td>\n",
       "      <td>5.09</td>\n",
       "      <td>5.33</td>\n",
       "      <td>5.55</td>\n",
       "      <td>6.57</td>\n",
       "      <td>2.16</td>\n",
       "      <td>-0.58</td>\n",
       "      <td>-1.02</td>\n",
       "      <td>0.8</td>\n",
       "    </tr>\n",
       "    <tr>\n",
       "      <th>2023-10-13</th>\n",
       "      <td>7.57</td>\n",
       "      <td>4.64</td>\n",
       "      <td>5.01</td>\n",
       "      <td>5.33</td>\n",
       "      <td>5.45</td>\n",
       "      <td>6.47</td>\n",
       "      <td>2.24</td>\n",
       "      <td>-0.69</td>\n",
       "      <td>-1.02</td>\n",
       "      <td>0.81</td>\n",
       "    </tr>\n",
       "    <tr>\n",
       "      <th>2023-10-20</th>\n",
       "      <td>7.63</td>\n",
       "      <td>4.87</td>\n",
       "      <td>5.14</td>\n",
       "      <td>5.33</td>\n",
       "      <td>5.67</td>\n",
       "      <td>6.69</td>\n",
       "      <td>2.3</td>\n",
       "      <td>-0.46</td>\n",
       "      <td>-1.02</td>\n",
       "      <td>0.8</td>\n",
       "    </tr>\n",
       "    <tr>\n",
       "      <th>2023-10-27</th>\n",
       "      <td>7.79</td>\n",
       "      <td>4.87</td>\n",
       "      <td>5.03</td>\n",
       "      <td>5.33</td>\n",
       "      <td>5.71</td>\n",
       "      <td>6.71</td>\n",
       "      <td>2.46</td>\n",
       "      <td>-0.46</td>\n",
       "      <td>-1.0</td>\n",
       "      <td>0.84</td>\n",
       "    </tr>\n",
       "    <tr>\n",
       "      <th>2023-11-03</th>\n",
       "      <td>7.76</td>\n",
       "      <td>4.75</td>\n",
       "      <td>4.97</td>\n",
       "      <td>5.33</td>\n",
       "      <td>5.61</td>\n",
       "      <td>6.62</td>\n",
       "      <td>2.43</td>\n",
       "      <td>-0.58</td>\n",
       "      <td>-1.01</td>\n",
       "      <td>0.86</td>\n",
       "    </tr>\n",
       "  </tbody>\n",
       "</table>\n",
       "</div>"
      ],
      "text/plain": [
       "            M30Y  T10Y   T2Y   FED   AAA   BAA T10-2 T10-F   A-B A-T10\n",
       "date                                                                  \n",
       "2023-09-29  7.31  4.58  5.06  5.33  5.35  6.35  1.98 -0.75  -1.0  0.77\n",
       "2023-10-06  7.49  4.75  5.09  5.33  5.55  6.57  2.16 -0.58 -1.02   0.8\n",
       "2023-10-13  7.57  4.64  5.01  5.33  5.45  6.47  2.24 -0.69 -1.02  0.81\n",
       "2023-10-20  7.63  4.87  5.14  5.33  5.67  6.69   2.3 -0.46 -1.02   0.8\n",
       "2023-10-27  7.79  4.87  5.03  5.33  5.71  6.71  2.46 -0.46  -1.0  0.84\n",
       "2023-11-03  7.76  4.75  4.97  5.33  5.61  6.62  2.43 -0.58 -1.01  0.86"
      ]
     },
     "execution_count": 46,
     "metadata": {},
     "output_type": "execute_result"
    }
   ],
   "source": [
    "new_df"
   ]
  },
  {
   "cell_type": "markdown",
   "id": "130249d5",
   "metadata": {},
   "source": [
    "# Random Forest"
   ]
  },
  {
   "cell_type": "code",
   "execution_count": 118,
   "id": "45e7d595",
   "metadata": {},
   "outputs": [
    {
     "name": "stdout",
     "output_type": "stream",
     "text": [
      "\n",
      "MSE: 0.7590068082303741\n",
      "RMSE: 0.8712099679356143\n",
      "RRMSE: 0.11391343723007509\n",
      "MAE: 0.8697013911194184\n",
      "RMAE: 0.11371618607732979\n"
     ]
    },
    {
     "data": {
      "text/html": [
       "<div>\n",
       "<style scoped>\n",
       "    .dataframe tbody tr th:only-of-type {\n",
       "        vertical-align: middle;\n",
       "    }\n",
       "\n",
       "    .dataframe tbody tr th {\n",
       "        vertical-align: top;\n",
       "    }\n",
       "\n",
       "    .dataframe thead th {\n",
       "        text-align: right;\n",
       "    }\n",
       "</style>\n",
       "<table border=\"1\" class=\"dataframe\">\n",
       "  <thead>\n",
       "    <tr style=\"text-align: right;\">\n",
       "      <th></th>\n",
       "      <th>Prediction</th>\n",
       "      <th>Actual</th>\n",
       "      <th>Upper Bound Estimate</th>\n",
       "      <th>Lower Bound Estimate</th>\n",
       "    </tr>\n",
       "  </thead>\n",
       "  <tbody>\n",
       "    <tr>\n",
       "      <th>0</th>\n",
       "      <td>6.635256</td>\n",
       "      <td>7.49</td>\n",
       "      <td>7.142835</td>\n",
       "      <td>6.127677</td>\n",
       "    </tr>\n",
       "    <tr>\n",
       "      <th>1</th>\n",
       "      <td>6.700298</td>\n",
       "      <td>7.57</td>\n",
       "      <td>7.207877</td>\n",
       "      <td>6.192719</td>\n",
       "    </tr>\n",
       "    <tr>\n",
       "      <th>2</th>\n",
       "      <td>6.686063</td>\n",
       "      <td>7.63</td>\n",
       "      <td>7.193642</td>\n",
       "      <td>6.178484</td>\n",
       "    </tr>\n",
       "    <tr>\n",
       "      <th>3</th>\n",
       "      <td>6.896835</td>\n",
       "      <td>7.79</td>\n",
       "      <td>7.404414</td>\n",
       "      <td>6.389256</td>\n",
       "    </tr>\n",
       "    <tr>\n",
       "      <th>4</th>\n",
       "      <td>6.973041</td>\n",
       "      <td>7.76</td>\n",
       "      <td>7.480620</td>\n",
       "      <td>6.465462</td>\n",
       "    </tr>\n",
       "  </tbody>\n",
       "</table>\n",
       "</div>"
      ],
      "text/plain": [
       "   Prediction Actual  Upper Bound Estimate  Lower Bound Estimate\n",
       "0    6.635256   7.49              7.142835              6.127677\n",
       "1    6.700298   7.57              7.207877              6.192719\n",
       "2    6.686063   7.63              7.193642              6.178484\n",
       "3    6.896835   7.79              7.404414              6.389256\n",
       "4    6.973041   7.76              7.480620              6.465462"
      ]
     },
     "execution_count": 118,
     "metadata": {},
     "output_type": "execute_result"
    }
   ],
   "source": [
    "import joblib\n",
    "loaded_rf = joblib.load('rfm.pkl')\n",
    "pred = loaded_rf.predict(new_df)\n",
    "\n",
    "rf_rmse = .507579\n",
    "\n",
    "pred_rf = pd.concat([pd.Series(pred),new_df['M30Y'].iloc[1:].reset_index(drop = True)], axis = 1).dropna()\n",
    "pred_rf['Upper Bound Estimate'] = pred_rf[0]+rf_rmse\n",
    "pred_rf['Lower Bound Estimate'] = pred_rf[0]-rf_rmse\n",
    "pred_rf.columns = ['Prediction','Actual','Upper Bound Estimate','Lower Bound Estimate']\n",
    "\n",
    "y_test = pred_rf['Actual'].copy()\n",
    "test_predictions = pred_rf['Prediction'].copy()\n",
    "\n",
    "\n",
    "from sklearn import metrics\n",
    "print(\"MSE:\",metrics.mean_squared_error (y_test,test_predictions))\n",
    "print(\"RMSE:\", np.sqrt(metrics.mean_squared_error (y_test,test_predictions)))\n",
    "print(\"RRMSE:\",np.sqrt(metrics.mean_squared_error (y_test,test_predictions))/y_test.mean())\n",
    "print(\"MAE:\", metrics.mean_absolute_error (y_test, test_predictions))\n",
    "print(\"RMAE:\", metrics.mean_absolute_error (y_test, test_predictions)/y_test.mean())\n",
    "\n",
    "pred_rf"
   ]
  },
  {
   "cell_type": "code",
   "execution_count": 119,
   "id": "d13f374b",
   "metadata": {},
   "outputs": [
    {
     "data": {
      "text/plain": [
       "(6.238933314869913, 6.746512314869912, 7.254091314869912)"
      ]
     },
     "execution_count": 119,
     "metadata": {},
     "output_type": "execute_result"
    }
   ],
   "source": [
    "# Next Prediction\n",
    "pred[-1]-rf_rmse, pred[-1], pred[-1]+rf_rmse"
   ]
  },
  {
   "cell_type": "markdown",
   "id": "0b4d024f",
   "metadata": {},
   "source": [
    "# LSTM"
   ]
  },
  {
   "cell_type": "code",
   "execution_count": 203,
   "id": "494f60dc",
   "metadata": {},
   "outputs": [],
   "source": [
    "from tensorflow.keras.models import load_model\n",
    "model0 = load_model('model0/')\n",
    "loaded_preprocessing_params = joblib.load('preprocessing_params.pkl')\n",
    "l_rmse = .161951\n",
    "\n",
    "\n",
    "data_n = (pd.concat([df.iloc[-10:],new_df], axis = 0))"
   ]
  },
  {
   "cell_type": "code",
   "execution_count": 207,
   "id": "7cdfe7ae",
   "metadata": {},
   "outputs": [],
   "source": [
    "def lstm_prep_new_data(df, window_size):\n",
    "    df_as_np = df.to_numpy()\n",
    "    X_new = []\n",
    "    for i in range(len(df_as_np) - window_size + 1):\n",
    "        row = [r for r in df_as_np[i:i+window_size]]\n",
    "        X_new.append(row)\n",
    "    return np.array(X_new)\n",
    "\n",
    "window_size = 11\n",
    "X_new = lstm_prep_new_data(data_n, window_size)\n",
    "\n",
    "def preprocess_new_data(X_new, training_mean, training_std):\n",
    "    X_new[:,:,0] = (X_new[:,:,0] - training_mean) / training_std\n",
    "    return X_new"
   ]
  },
  {
   "cell_type": "code",
   "execution_count": 216,
   "id": "71797601",
   "metadata": {},
   "outputs": [
    {
     "name": "stdout",
     "output_type": "stream",
     "text": [
      "1/1 [==============================] - 0s 16ms/step\n"
     ]
    }
   ],
   "source": [
    "X_new = preprocess_new_data(X_new, loaded_preprocessing_params['training_mean'], loaded_preprocessing_params['training_std'])\n",
    "\n",
    "pred_l = model0.predict(X_new.astype('float32')).flatten()"
   ]
  },
  {
   "cell_type": "code",
   "execution_count": 223,
   "id": "5dfc5dfe",
   "metadata": {},
   "outputs": [
    {
     "name": "stdout",
     "output_type": "stream",
     "text": [
      "MSE: 0.08275895614562137\n",
      "RMSE: 0.28767856393138047\n",
      "RRMSE: 0.03761487499102778\n",
      "MAE: 0.28486447143554694\n",
      "RMAE: 0.03724692356636335\n"
     ]
    },
    {
     "data": {
      "text/html": [
       "<div>\n",
       "<style scoped>\n",
       "    .dataframe tbody tr th:only-of-type {\n",
       "        vertical-align: middle;\n",
       "    }\n",
       "\n",
       "    .dataframe tbody tr th {\n",
       "        vertical-align: top;\n",
       "    }\n",
       "\n",
       "    .dataframe thead th {\n",
       "        text-align: right;\n",
       "    }\n",
       "</style>\n",
       "<table border=\"1\" class=\"dataframe\">\n",
       "  <thead>\n",
       "    <tr style=\"text-align: right;\">\n",
       "      <th></th>\n",
       "      <th>Prediction</th>\n",
       "      <th>Actual</th>\n",
       "      <th>Upper Bound Estimate</th>\n",
       "      <th>Lower Bound Estimate</th>\n",
       "    </tr>\n",
       "  </thead>\n",
       "  <tbody>\n",
       "    <tr>\n",
       "      <th>0</th>\n",
       "      <td>7.177323</td>\n",
       "      <td>7.49</td>\n",
       "      <td>7.339274</td>\n",
       "      <td>7.015372</td>\n",
       "    </tr>\n",
       "    <tr>\n",
       "      <th>1</th>\n",
       "      <td>7.292666</td>\n",
       "      <td>7.57</td>\n",
       "      <td>7.454618</td>\n",
       "      <td>7.130715</td>\n",
       "    </tr>\n",
       "    <tr>\n",
       "      <th>2</th>\n",
       "      <td>7.332806</td>\n",
       "      <td>7.63</td>\n",
       "      <td>7.494757</td>\n",
       "      <td>7.170855</td>\n",
       "    </tr>\n",
       "    <tr>\n",
       "      <th>3</th>\n",
       "      <td>7.464249</td>\n",
       "      <td>7.79</td>\n",
       "      <td>7.626200</td>\n",
       "      <td>7.302298</td>\n",
       "    </tr>\n",
       "    <tr>\n",
       "      <th>4</th>\n",
       "      <td>7.548634</td>\n",
       "      <td>7.76</td>\n",
       "      <td>7.710585</td>\n",
       "      <td>7.386683</td>\n",
       "    </tr>\n",
       "  </tbody>\n",
       "</table>\n",
       "</div>"
      ],
      "text/plain": [
       "   Prediction Actual  Upper Bound Estimate  Lower Bound Estimate\n",
       "0    7.177323   7.49              7.339274              7.015372\n",
       "1    7.292666   7.57              7.454618              7.130715\n",
       "2    7.332806   7.63              7.494757              7.170855\n",
       "3    7.464249   7.79              7.626200              7.302298\n",
       "4    7.548634   7.76              7.710585              7.386683"
      ]
     },
     "execution_count": 223,
     "metadata": {},
     "output_type": "execute_result"
    }
   ],
   "source": [
    "predict_lstm = pd.concat([pd.Series(pred_l),new_df['M30Y'].iloc[1:].reset_index(drop = True)], axis = 1).dropna()\n",
    "\n",
    "predict_lstm['Upper Bound Estimate'] = predict_lstm[0]+l_rmse\n",
    "predict_lstm['Lower Bound Estimate'] = predict_lstm[0]-l_rmse\n",
    "predict_lstm.columns = ['Prediction','Actual','Upper Bound Estimate','Lower Bound Estimate']\n",
    "\n",
    "y_test = predict_lstm['Actual'].copy()\n",
    "test_predictions = predict_lstm['Prediction'].copy()\n",
    "\n",
    "\n",
    "print(\"MSE:\",metrics.mean_squared_error (y_test,test_predictions))\n",
    "print(\"RMSE:\", np.sqrt(metrics.mean_squared_error (y_test,test_predictions)))\n",
    "print(\"RRMSE:\",np.sqrt(metrics.mean_squared_error (y_test,test_predictions))/y_test.mean())\n",
    "print(\"MAE:\", metrics.mean_absolute_error (y_test, test_predictions))\n",
    "print(\"RMAE:\", metrics.mean_absolute_error (y_test, test_predictions)/y_test.mean())\n",
    "\n",
    "predict_lstm"
   ]
  },
  {
   "cell_type": "code",
   "execution_count": 225,
   "id": "803558f8",
   "metadata": {},
   "outputs": [
    {
     "data": {
      "text/plain": [
       "(7.356846874450683, 7.518798, 7.680748874450684)"
      ]
     },
     "execution_count": 225,
     "metadata": {},
     "output_type": "execute_result"
    }
   ],
   "source": [
    "# Next Prediction\n",
    "pred_l[-1]-l_rmse, pred_l[-1], pred_l[-1]+l_rmse"
   ]
  },
  {
   "cell_type": "code",
   "execution_count": null,
   "id": "64c38746",
   "metadata": {},
   "outputs": [],
   "source": []
  }
 ],
 "metadata": {
  "kernelspec": {
   "display_name": "Python 3 (ipykernel)",
   "language": "python",
   "name": "python3"
  },
  "language_info": {
   "codemirror_mode": {
    "name": "ipython",
    "version": 3
   },
   "file_extension": ".py",
   "mimetype": "text/x-python",
   "name": "python",
   "nbconvert_exporter": "python",
   "pygments_lexer": "ipython3",
   "version": "3.10.9"
  }
 },
 "nbformat": 4,
 "nbformat_minor": 5
}
